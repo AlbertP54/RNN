{
  "nbformat": 4,
  "nbformat_minor": 0,
  "metadata": {
    "colab": {
      "name": "RNN.ipynb",
      "provenance": [],
      "collapsed_sections": [],
      "authorship_tag": "ABX9TyMQl8y3TAGXfNy7/5pNX7tf",
      "include_colab_link": true
    },
    "kernelspec": {
      "name": "python3",
      "display_name": "Python 3"
    },
    "language_info": {
      "name": "python"
    }
  },
  "cells": [
    {
      "cell_type": "markdown",
      "metadata": {
        "id": "view-in-github",
        "colab_type": "text"
      },
      "source": [
        "<a href=\"https://colab.research.google.com/github/AlbertP54/RNN/blob/main/RNN.ipynb\" target=\"_parent\"><img src=\"https://colab.research.google.com/assets/colab-badge.svg\" alt=\"Open In Colab\"/></a>"
      ]
    },
    {
      "cell_type": "code",
      "metadata": {
        "colab": {
          "resources": {
            "http://localhost:8080/nbextensions/google.colab/files.js": {
              "data": "Ly8gQ29weXJpZ2h0IDIwMTcgR29vZ2xlIExMQwovLwovLyBMaWNlbnNlZCB1bmRlciB0aGUgQXBhY2hlIExpY2Vuc2UsIFZlcnNpb24gMi4wICh0aGUgIkxpY2Vuc2UiKTsKLy8geW91IG1heSBub3QgdXNlIHRoaXMgZmlsZSBleGNlcHQgaW4gY29tcGxpYW5jZSB3aXRoIHRoZSBMaWNlbnNlLgovLyBZb3UgbWF5IG9idGFpbiBhIGNvcHkgb2YgdGhlIExpY2Vuc2UgYXQKLy8KLy8gICAgICBodHRwOi8vd3d3LmFwYWNoZS5vcmcvbGljZW5zZXMvTElDRU5TRS0yLjAKLy8KLy8gVW5sZXNzIHJlcXVpcmVkIGJ5IGFwcGxpY2FibGUgbGF3IG9yIGFncmVlZCB0byBpbiB3cml0aW5nLCBzb2Z0d2FyZQovLyBkaXN0cmlidXRlZCB1bmRlciB0aGUgTGljZW5zZSBpcyBkaXN0cmlidXRlZCBvbiBhbiAiQVMgSVMiIEJBU0lTLAovLyBXSVRIT1VUIFdBUlJBTlRJRVMgT1IgQ09ORElUSU9OUyBPRiBBTlkgS0lORCwgZWl0aGVyIGV4cHJlc3Mgb3IgaW1wbGllZC4KLy8gU2VlIHRoZSBMaWNlbnNlIGZvciB0aGUgc3BlY2lmaWMgbGFuZ3VhZ2UgZ292ZXJuaW5nIHBlcm1pc3Npb25zIGFuZAovLyBsaW1pdGF0aW9ucyB1bmRlciB0aGUgTGljZW5zZS4KCi8qKgogKiBAZmlsZW92ZXJ2aWV3IEhlbHBlcnMgZm9yIGdvb2dsZS5jb2xhYiBQeXRob24gbW9kdWxlLgogKi8KKGZ1bmN0aW9uKHNjb3BlKSB7CmZ1bmN0aW9uIHNwYW4odGV4dCwgc3R5bGVBdHRyaWJ1dGVzID0ge30pIHsKICBjb25zdCBlbGVtZW50ID0gZG9jdW1lbnQuY3JlYXRlRWxlbWVudCgnc3BhbicpOwogIGVsZW1lbnQudGV4dENvbnRlbnQgPSB0ZXh0OwogIGZvciAoY29uc3Qga2V5IG9mIE9iamVjdC5rZXlzKHN0eWxlQXR0cmlidXRlcykpIHsKICAgIGVsZW1lbnQuc3R5bGVba2V5XSA9IHN0eWxlQXR0cmlidXRlc1trZXldOwogIH0KICByZXR1cm4gZWxlbWVudDsKfQoKLy8gTWF4IG51bWJlciBvZiBieXRlcyB3aGljaCB3aWxsIGJlIHVwbG9hZGVkIGF0IGEgdGltZS4KY29uc3QgTUFYX1BBWUxPQURfU0laRSA9IDEwMCAqIDEwMjQ7CgpmdW5jdGlvbiBfdXBsb2FkRmlsZXMoaW5wdXRJZCwgb3V0cHV0SWQpIHsKICBjb25zdCBzdGVwcyA9IHVwbG9hZEZpbGVzU3RlcChpbnB1dElkLCBvdXRwdXRJZCk7CiAgY29uc3Qgb3V0cHV0RWxlbWVudCA9IGRvY3VtZW50LmdldEVsZW1lbnRCeUlkKG91dHB1dElkKTsKICAvLyBDYWNoZSBzdGVwcyBvbiB0aGUgb3V0cHV0RWxlbWVudCB0byBtYWtlIGl0IGF2YWlsYWJsZSBmb3IgdGhlIG5leHQgY2FsbAogIC8vIHRvIHVwbG9hZEZpbGVzQ29udGludWUgZnJvbSBQeXRob24uCiAgb3V0cHV0RWxlbWVudC5zdGVwcyA9IHN0ZXBzOwoKICByZXR1cm4gX3VwbG9hZEZpbGVzQ29udGludWUob3V0cHV0SWQpOwp9CgovLyBUaGlzIGlzIHJvdWdobHkgYW4gYXN5bmMgZ2VuZXJhdG9yIChub3Qgc3VwcG9ydGVkIGluIHRoZSBicm93c2VyIHlldCksCi8vIHdoZXJlIHRoZXJlIGFyZSBtdWx0aXBsZSBhc3luY2hyb25vdXMgc3RlcHMgYW5kIHRoZSBQeXRob24gc2lkZSBpcyBnb2luZwovLyB0byBwb2xsIGZvciBjb21wbGV0aW9uIG9mIGVhY2ggc3RlcC4KLy8gVGhpcyB1c2VzIGEgUHJvbWlzZSB0byBibG9jayB0aGUgcHl0aG9uIHNpZGUgb24gY29tcGxldGlvbiBvZiBlYWNoIHN0ZXAsCi8vIHRoZW4gcGFzc2VzIHRoZSByZXN1bHQgb2YgdGhlIHByZXZpb3VzIHN0ZXAgYXMgdGhlIGlucHV0IHRvIHRoZSBuZXh0IHN0ZXAuCmZ1bmN0aW9uIF91cGxvYWRGaWxlc0NvbnRpbnVlKG91dHB1dElkKSB7CiAgY29uc3Qgb3V0cHV0RWxlbWVudCA9IGRvY3VtZW50LmdldEVsZW1lbnRCeUlkKG91dHB1dElkKTsKICBjb25zdCBzdGVwcyA9IG91dHB1dEVsZW1lbnQuc3RlcHM7CgogIGNvbnN0IG5leHQgPSBzdGVwcy5uZXh0KG91dHB1dEVsZW1lbnQubGFzdFByb21pc2VWYWx1ZSk7CiAgcmV0dXJuIFByb21pc2UucmVzb2x2ZShuZXh0LnZhbHVlLnByb21pc2UpLnRoZW4oKHZhbHVlKSA9PiB7CiAgICAvLyBDYWNoZSB0aGUgbGFzdCBwcm9taXNlIHZhbHVlIHRvIG1ha2UgaXQgYXZhaWxhYmxlIHRvIHRoZSBuZXh0CiAgICAvLyBzdGVwIG9mIHRoZSBnZW5lcmF0b3IuCiAgICBvdXRwdXRFbGVtZW50Lmxhc3RQcm9taXNlVmFsdWUgPSB2YWx1ZTsKICAgIHJldHVybiBuZXh0LnZhbHVlLnJlc3BvbnNlOwogIH0pOwp9CgovKioKICogR2VuZXJhdG9yIGZ1bmN0aW9uIHdoaWNoIGlzIGNhbGxlZCBiZXR3ZWVuIGVhY2ggYXN5bmMgc3RlcCBvZiB0aGUgdXBsb2FkCiAqIHByb2Nlc3MuCiAqIEBwYXJhbSB7c3RyaW5nfSBpbnB1dElkIEVsZW1lbnQgSUQgb2YgdGhlIGlucHV0IGZpbGUgcGlja2VyIGVsZW1lbnQuCiAqIEBwYXJhbSB7c3RyaW5nfSBvdXRwdXRJZCBFbGVtZW50IElEIG9mIHRoZSBvdXRwdXQgZGlzcGxheS4KICogQHJldHVybiB7IUl0ZXJhYmxlPCFPYmplY3Q+fSBJdGVyYWJsZSBvZiBuZXh0IHN0ZXBzLgogKi8KZnVuY3Rpb24qIHVwbG9hZEZpbGVzU3RlcChpbnB1dElkLCBvdXRwdXRJZCkgewogIGNvbnN0IGlucHV0RWxlbWVudCA9IGRvY3VtZW50LmdldEVsZW1lbnRCeUlkKGlucHV0SWQpOwogIGlucHV0RWxlbWVudC5kaXNhYmxlZCA9IGZhbHNlOwoKICBjb25zdCBvdXRwdXRFbGVtZW50ID0gZG9jdW1lbnQuZ2V0RWxlbWVudEJ5SWQob3V0cHV0SWQpOwogIG91dHB1dEVsZW1lbnQuaW5uZXJIVE1MID0gJyc7CgogIGNvbnN0IHBpY2tlZFByb21pc2UgPSBuZXcgUHJvbWlzZSgocmVzb2x2ZSkgPT4gewogICAgaW5wdXRFbGVtZW50LmFkZEV2ZW50TGlzdGVuZXIoJ2NoYW5nZScsIChlKSA9PiB7CiAgICAgIHJlc29sdmUoZS50YXJnZXQuZmlsZXMpOwogICAgfSk7CiAgfSk7CgogIGNvbnN0IGNhbmNlbCA9IGRvY3VtZW50LmNyZWF0ZUVsZW1lbnQoJ2J1dHRvbicpOwogIGlucHV0RWxlbWVudC5wYXJlbnRFbGVtZW50LmFwcGVuZENoaWxkKGNhbmNlbCk7CiAgY2FuY2VsLnRleHRDb250ZW50ID0gJ0NhbmNlbCB1cGxvYWQnOwogIGNvbnN0IGNhbmNlbFByb21pc2UgPSBuZXcgUHJvbWlzZSgocmVzb2x2ZSkgPT4gewogICAgY2FuY2VsLm9uY2xpY2sgPSAoKSA9PiB7CiAgICAgIHJlc29sdmUobnVsbCk7CiAgICB9OwogIH0pOwoKICAvLyBXYWl0IGZvciB0aGUgdXNlciB0byBwaWNrIHRoZSBmaWxlcy4KICBjb25zdCBmaWxlcyA9IHlpZWxkIHsKICAgIHByb21pc2U6IFByb21pc2UucmFjZShbcGlja2VkUHJvbWlzZSwgY2FuY2VsUHJvbWlzZV0pLAogICAgcmVzcG9uc2U6IHsKICAgICAgYWN0aW9uOiAnc3RhcnRpbmcnLAogICAgfQogIH07CgogIGNhbmNlbC5yZW1vdmUoKTsKCiAgLy8gRGlzYWJsZSB0aGUgaW5wdXQgZWxlbWVudCBzaW5jZSBmdXJ0aGVyIHBpY2tzIGFyZSBub3QgYWxsb3dlZC4KICBpbnB1dEVsZW1lbnQuZGlzYWJsZWQgPSB0cnVlOwoKICBpZiAoIWZpbGVzKSB7CiAgICByZXR1cm4gewogICAgICByZXNwb25zZTogewogICAgICAgIGFjdGlvbjogJ2NvbXBsZXRlJywKICAgICAgfQogICAgfTsKICB9CgogIGZvciAoY29uc3QgZmlsZSBvZiBmaWxlcykgewogICAgY29uc3QgbGkgPSBkb2N1bWVudC5jcmVhdGVFbGVtZW50KCdsaScpOwogICAgbGkuYXBwZW5kKHNwYW4oZmlsZS5uYW1lLCB7Zm9udFdlaWdodDogJ2JvbGQnfSkpOwogICAgbGkuYXBwZW5kKHNwYW4oCiAgICAgICAgYCgke2ZpbGUudHlwZSB8fCAnbi9hJ30pIC0gJHtmaWxlLnNpemV9IGJ5dGVzLCBgICsKICAgICAgICBgbGFzdCBtb2RpZmllZDogJHsKICAgICAgICAgICAgZmlsZS5sYXN0TW9kaWZpZWREYXRlID8gZmlsZS5sYXN0TW9kaWZpZWREYXRlLnRvTG9jYWxlRGF0ZVN0cmluZygpIDoKICAgICAgICAgICAgICAgICAgICAgICAgICAgICAgICAgICAgJ24vYSd9IC0gYCkpOwogICAgY29uc3QgcGVyY2VudCA9IHNwYW4oJzAlIGRvbmUnKTsKICAgIGxpLmFwcGVuZENoaWxkKHBlcmNlbnQpOwoKICAgIG91dHB1dEVsZW1lbnQuYXBwZW5kQ2hpbGQobGkpOwoKICAgIGNvbnN0IGZpbGVEYXRhUHJvbWlzZSA9IG5ldyBQcm9taXNlKChyZXNvbHZlKSA9PiB7CiAgICAgIGNvbnN0IHJlYWRlciA9IG5ldyBGaWxlUmVhZGVyKCk7CiAgICAgIHJlYWRlci5vbmxvYWQgPSAoZSkgPT4gewogICAgICAgIHJlc29sdmUoZS50YXJnZXQucmVzdWx0KTsKICAgICAgfTsKICAgICAgcmVhZGVyLnJlYWRBc0FycmF5QnVmZmVyKGZpbGUpOwogICAgfSk7CiAgICAvLyBXYWl0IGZvciB0aGUgZGF0YSB0byBiZSByZWFkeS4KICAgIGxldCBmaWxlRGF0YSA9IHlpZWxkIHsKICAgICAgcHJvbWlzZTogZmlsZURhdGFQcm9taXNlLAogICAgICByZXNwb25zZTogewogICAgICAgIGFjdGlvbjogJ2NvbnRpbnVlJywKICAgICAgfQogICAgfTsKCiAgICAvLyBVc2UgYSBjaHVua2VkIHNlbmRpbmcgdG8gYXZvaWQgbWVzc2FnZSBzaXplIGxpbWl0cy4gU2VlIGIvNjIxMTU2NjAuCiAgICBsZXQgcG9zaXRpb24gPSAwOwogICAgZG8gewogICAgICBjb25zdCBsZW5ndGggPSBNYXRoLm1pbihmaWxlRGF0YS5ieXRlTGVuZ3RoIC0gcG9zaXRpb24sIE1BWF9QQVlMT0FEX1NJWkUpOwogICAgICBjb25zdCBjaHVuayA9IG5ldyBVaW50OEFycmF5KGZpbGVEYXRhLCBwb3NpdGlvbiwgbGVuZ3RoKTsKICAgICAgcG9zaXRpb24gKz0gbGVuZ3RoOwoKICAgICAgY29uc3QgYmFzZTY0ID0gYnRvYShTdHJpbmcuZnJvbUNoYXJDb2RlLmFwcGx5KG51bGwsIGNodW5rKSk7CiAgICAgIHlpZWxkIHsKICAgICAgICByZXNwb25zZTogewogICAgICAgICAgYWN0aW9uOiAnYXBwZW5kJywKICAgICAgICAgIGZpbGU6IGZpbGUubmFtZSwKICAgICAgICAgIGRhdGE6IGJhc2U2NCwKICAgICAgICB9LAogICAgICB9OwoKICAgICAgbGV0IHBlcmNlbnREb25lID0gZmlsZURhdGEuYnl0ZUxlbmd0aCA9PT0gMCA/CiAgICAgICAgICAxMDAgOgogICAgICAgICAgTWF0aC5yb3VuZCgocG9zaXRpb24gLyBmaWxlRGF0YS5ieXRlTGVuZ3RoKSAqIDEwMCk7CiAgICAgIHBlcmNlbnQudGV4dENvbnRlbnQgPSBgJHtwZXJjZW50RG9uZX0lIGRvbmVgOwoKICAgIH0gd2hpbGUgKHBvc2l0aW9uIDwgZmlsZURhdGEuYnl0ZUxlbmd0aCk7CiAgfQoKICAvLyBBbGwgZG9uZS4KICB5aWVsZCB7CiAgICByZXNwb25zZTogewogICAgICBhY3Rpb246ICdjb21wbGV0ZScsCiAgICB9CiAgfTsKfQoKc2NvcGUuZ29vZ2xlID0gc2NvcGUuZ29vZ2xlIHx8IHt9OwpzY29wZS5nb29nbGUuY29sYWIgPSBzY29wZS5nb29nbGUuY29sYWIgfHwge307CnNjb3BlLmdvb2dsZS5jb2xhYi5fZmlsZXMgPSB7CiAgX3VwbG9hZEZpbGVzLAogIF91cGxvYWRGaWxlc0NvbnRpbnVlLAp9Owp9KShzZWxmKTsK",
              "ok": true,
              "headers": [
                [
                  "content-type",
                  "application/javascript"
                ]
              ],
              "status": 200,
              "status_text": ""
            }
          },
          "base_uri": "https://localhost:8080/",
          "height": 262
        },
        "id": "Xmm2zQzk9mL9",
        "outputId": "c4caec43-9fcc-4ee9-e1d6-5e5a5fd85873"
      },
      "source": [
        "import pandas as pd\n",
        "import numpy as np\n",
        "import matplotlib.pyplot as plt\n",
        "import seaborn as sns\n",
        "import warnings\n",
        "\n",
        "warnings.filterwarnings(\"ignore\")\n",
        "\n",
        "from google.colab import files\n",
        "uploaded = files.upload()\n",
        "\n",
        "df = pd.read_csv(\"maintenance.csv\")\n",
        "\n",
        "df.drop(['UDI', 'Product ID', 'TWF', 'HDF', 'PWF', 'OSF', 'RNF'], axis=1, inplace=True)\n",
        "df.head()"
      ],
      "execution_count": 1,
      "outputs": [
        {
          "output_type": "display_data",
          "data": {
            "text/html": [
              "\n",
              "     <input type=\"file\" id=\"files-d7586baa-d9ac-4df5-a14b-3a13c7ccd2e0\" name=\"files[]\" multiple disabled\n",
              "        style=\"border:none\" />\n",
              "     <output id=\"result-d7586baa-d9ac-4df5-a14b-3a13c7ccd2e0\">\n",
              "      Upload widget is only available when the cell has been executed in the\n",
              "      current browser session. Please rerun this cell to enable.\n",
              "      </output>\n",
              "      <script src=\"/nbextensions/google.colab/files.js\"></script> "
            ],
            "text/plain": [
              "<IPython.core.display.HTML object>"
            ]
          },
          "metadata": {}
        },
        {
          "output_type": "stream",
          "name": "stdout",
          "text": [
            "Saving maintenance.csv to maintenance.csv\n"
          ]
        },
        {
          "output_type": "execute_result",
          "data": {
            "text/html": [
              "<div>\n",
              "<style scoped>\n",
              "    .dataframe tbody tr th:only-of-type {\n",
              "        vertical-align: middle;\n",
              "    }\n",
              "\n",
              "    .dataframe tbody tr th {\n",
              "        vertical-align: top;\n",
              "    }\n",
              "\n",
              "    .dataframe thead th {\n",
              "        text-align: right;\n",
              "    }\n",
              "</style>\n",
              "<table border=\"1\" class=\"dataframe\">\n",
              "  <thead>\n",
              "    <tr style=\"text-align: right;\">\n",
              "      <th></th>\n",
              "      <th>Type</th>\n",
              "      <th>Air temperature [K]</th>\n",
              "      <th>Process temperature [K]</th>\n",
              "      <th>Rotational speed [rpm]</th>\n",
              "      <th>Torque [Nm]</th>\n",
              "      <th>Tool wear [min]</th>\n",
              "      <th>Machine failure</th>\n",
              "    </tr>\n",
              "  </thead>\n",
              "  <tbody>\n",
              "    <tr>\n",
              "      <th>0</th>\n",
              "      <td>M</td>\n",
              "      <td>298.1</td>\n",
              "      <td>308.6</td>\n",
              "      <td>1551</td>\n",
              "      <td>42.8</td>\n",
              "      <td>0</td>\n",
              "      <td>0</td>\n",
              "    </tr>\n",
              "    <tr>\n",
              "      <th>1</th>\n",
              "      <td>L</td>\n",
              "      <td>298.2</td>\n",
              "      <td>308.7</td>\n",
              "      <td>1408</td>\n",
              "      <td>46.3</td>\n",
              "      <td>3</td>\n",
              "      <td>0</td>\n",
              "    </tr>\n",
              "    <tr>\n",
              "      <th>2</th>\n",
              "      <td>L</td>\n",
              "      <td>298.1</td>\n",
              "      <td>308.5</td>\n",
              "      <td>1498</td>\n",
              "      <td>49.4</td>\n",
              "      <td>5</td>\n",
              "      <td>0</td>\n",
              "    </tr>\n",
              "    <tr>\n",
              "      <th>3</th>\n",
              "      <td>L</td>\n",
              "      <td>298.2</td>\n",
              "      <td>308.6</td>\n",
              "      <td>1433</td>\n",
              "      <td>39.5</td>\n",
              "      <td>7</td>\n",
              "      <td>0</td>\n",
              "    </tr>\n",
              "    <tr>\n",
              "      <th>4</th>\n",
              "      <td>L</td>\n",
              "      <td>298.2</td>\n",
              "      <td>308.7</td>\n",
              "      <td>1408</td>\n",
              "      <td>40.0</td>\n",
              "      <td>9</td>\n",
              "      <td>0</td>\n",
              "    </tr>\n",
              "  </tbody>\n",
              "</table>\n",
              "</div>"
            ],
            "text/plain": [
              "  Type  Air temperature [K]  ...  Tool wear [min]  Machine failure\n",
              "0    M                298.1  ...                0                0\n",
              "1    L                298.2  ...                3                0\n",
              "2    L                298.1  ...                5                0\n",
              "3    L                298.2  ...                7                0\n",
              "4    L                298.2  ...                9                0\n",
              "\n",
              "[5 rows x 7 columns]"
            ]
          },
          "metadata": {},
          "execution_count": 1
        }
      ]
    },
    {
      "cell_type": "markdown",
      "metadata": {
        "id": "U2RNKqezFNgL"
      },
      "source": [
        "**Codificando variables independientes**"
      ]
    },
    {
      "cell_type": "code",
      "metadata": {
        "colab": {
          "base_uri": "https://localhost:8080/",
          "height": 206
        },
        "id": "YW8lJR7fAvET",
        "outputId": "041f1eb0-0265-4685-d738-21cd0c1a5042"
      },
      "source": [
        "from sklearn.preprocessing import LabelEncoder\n",
        "\n",
        "labelencoder_X_1 = LabelEncoder()\n",
        "df.iloc[:, 0] = labelencoder_X_1.fit_transform(df.iloc[:, 0])\n",
        "df.head()"
      ],
      "execution_count": 2,
      "outputs": [
        {
          "output_type": "execute_result",
          "data": {
            "text/html": [
              "<div>\n",
              "<style scoped>\n",
              "    .dataframe tbody tr th:only-of-type {\n",
              "        vertical-align: middle;\n",
              "    }\n",
              "\n",
              "    .dataframe tbody tr th {\n",
              "        vertical-align: top;\n",
              "    }\n",
              "\n",
              "    .dataframe thead th {\n",
              "        text-align: right;\n",
              "    }\n",
              "</style>\n",
              "<table border=\"1\" class=\"dataframe\">\n",
              "  <thead>\n",
              "    <tr style=\"text-align: right;\">\n",
              "      <th></th>\n",
              "      <th>Type</th>\n",
              "      <th>Air temperature [K]</th>\n",
              "      <th>Process temperature [K]</th>\n",
              "      <th>Rotational speed [rpm]</th>\n",
              "      <th>Torque [Nm]</th>\n",
              "      <th>Tool wear [min]</th>\n",
              "      <th>Machine failure</th>\n",
              "    </tr>\n",
              "  </thead>\n",
              "  <tbody>\n",
              "    <tr>\n",
              "      <th>0</th>\n",
              "      <td>2</td>\n",
              "      <td>298.1</td>\n",
              "      <td>308.6</td>\n",
              "      <td>1551</td>\n",
              "      <td>42.8</td>\n",
              "      <td>0</td>\n",
              "      <td>0</td>\n",
              "    </tr>\n",
              "    <tr>\n",
              "      <th>1</th>\n",
              "      <td>1</td>\n",
              "      <td>298.2</td>\n",
              "      <td>308.7</td>\n",
              "      <td>1408</td>\n",
              "      <td>46.3</td>\n",
              "      <td>3</td>\n",
              "      <td>0</td>\n",
              "    </tr>\n",
              "    <tr>\n",
              "      <th>2</th>\n",
              "      <td>1</td>\n",
              "      <td>298.1</td>\n",
              "      <td>308.5</td>\n",
              "      <td>1498</td>\n",
              "      <td>49.4</td>\n",
              "      <td>5</td>\n",
              "      <td>0</td>\n",
              "    </tr>\n",
              "    <tr>\n",
              "      <th>3</th>\n",
              "      <td>1</td>\n",
              "      <td>298.2</td>\n",
              "      <td>308.6</td>\n",
              "      <td>1433</td>\n",
              "      <td>39.5</td>\n",
              "      <td>7</td>\n",
              "      <td>0</td>\n",
              "    </tr>\n",
              "    <tr>\n",
              "      <th>4</th>\n",
              "      <td>1</td>\n",
              "      <td>298.2</td>\n",
              "      <td>308.7</td>\n",
              "      <td>1408</td>\n",
              "      <td>40.0</td>\n",
              "      <td>9</td>\n",
              "      <td>0</td>\n",
              "    </tr>\n",
              "  </tbody>\n",
              "</table>\n",
              "</div>"
            ],
            "text/plain": [
              "   Type  Air temperature [K]  ...  Tool wear [min]  Machine failure\n",
              "0     2                298.1  ...                0                0\n",
              "1     1                298.2  ...                3                0\n",
              "2     1                298.1  ...                5                0\n",
              "3     1                298.2  ...                7                0\n",
              "4     1                298.2  ...                9                0\n",
              "\n",
              "[5 rows x 7 columns]"
            ]
          },
          "metadata": {},
          "execution_count": 2
        }
      ]
    },
    {
      "cell_type": "markdown",
      "metadata": {
        "id": "U4WQhbE5Ffl9"
      },
      "source": [
        "**Calculando correlacion entre las columnas**"
      ]
    },
    {
      "cell_type": "code",
      "metadata": {
        "colab": {
          "base_uri": "https://localhost:8080/",
          "height": 832
        },
        "id": "w1kWiO1pBAZa",
        "outputId": "0bc057aa-c4d1-482d-95a9-7e2becd2234c"
      },
      "source": [
        "from matplotlib.colors import LinearSegmentedColormap\n",
        "\n",
        "corr = df.iloc[:, 1:7].corr()\n",
        "\n",
        "cmap = LinearSegmentedColormap.from_list(\n",
        "    name='test', \n",
        "    colors=['red','white','green'])\n",
        "\n",
        "fig, ax = plt.subplots(figsize=(15,12)) \n",
        "\n",
        "sns.heatmap(corr, \n",
        "        xticklabels=corr.columns,\n",
        "        yticklabels=corr.columns, \n",
        "           cmap=cmap, annot=True,\n",
        "           ax=ax)"
      ],
      "execution_count": 3,
      "outputs": [
        {
          "output_type": "execute_result",
          "data": {
            "text/plain": [
              "<matplotlib.axes._subplots.AxesSubplot at 0x7f8ade552250>"
            ]
          },
          "metadata": {},
          "execution_count": 3
        },
        {
          "output_type": "display_data",
          "data": {
            "image/png": "[encoded data removed]",
            "text/plain": [
              "<Figure size 1080x864 with 2 Axes>"
            ]
          },
          "metadata": {
            "needs_background": "light"
          }
        }
      ]
    },
    {
      "cell_type": "markdown",
      "metadata": {
        "id": "wmC1C9OCFtrT"
      },
      "source": [
        "**Creando copia del data set eliminando las siguientes columnas**"
      ]
    },
    {
      "cell_type": "code",
      "metadata": {
        "colab": {
          "base_uri": "https://localhost:8080/",
          "height": 721
        },
        "id": "64wvezMw-L-7",
        "outputId": "6f4490b3-d1b2-4d69-9913-6287daacbd22"
      },
      "source": [
        "df2 = df.drop(['Process temperature [K]', 'Rotational speed [rpm]'], axis=1)\n",
        "\n",
        "corr = df2.iloc[:, 0:4].corr()\n",
        "\n",
        "cmap = LinearSegmentedColormap.from_list(\n",
        "    name='test', \n",
        "    colors=['white','green'])\n",
        "\n",
        "fig, ax = plt.subplots(figsize=(15,12)) \n",
        "\n",
        "sns.heatmap(corr, \n",
        "        xticklabels=corr.columns,\n",
        "        yticklabels=corr.columns, \n",
        "           cmap=cmap, annot=True,\n",
        "           ax=ax)"
      ],
      "execution_count": 4,
      "outputs": [
        {
          "output_type": "execute_result",
          "data": {
            "text/plain": [
              "<matplotlib.axes._subplots.AxesSubplot at 0x7f8adc881250>"
            ]
          },
          "metadata": {},
          "execution_count": 4
        },
        {
          "output_type": "display_data",
          "data": {
            "image/png": "[encoded data removed]",
            "text/plain": [
              "<Figure size 1080x864 with 2 Axes>"
            ]
          },
          "metadata": {
            "needs_background": "light"
          }
        }
      ]
    },
    {
      "cell_type": "code",
      "metadata": {
        "colab": {
          "base_uri": "https://localhost:8080/",
          "height": 424
        },
        "id": "Zwmot1ujBO8a",
        "outputId": "9d0506c4-7a15-4fbb-b2b6-a1ce73f80281"
      },
      "source": [
        "df2"
      ],
      "execution_count": 5,
      "outputs": [
        {
          "output_type": "execute_result",
          "data": {
            "text/html": [
              "<div>\n",
              "<style scoped>\n",
              "    .dataframe tbody tr th:only-of-type {\n",
              "        vertical-align: middle;\n",
              "    }\n",
              "\n",
              "    .dataframe tbody tr th {\n",
              "        vertical-align: top;\n",
              "    }\n",
              "\n",
              "    .dataframe thead th {\n",
              "        text-align: right;\n",
              "    }\n",
              "</style>\n",
              "<table border=\"1\" class=\"dataframe\">\n",
              "  <thead>\n",
              "    <tr style=\"text-align: right;\">\n",
              "      <th></th>\n",
              "      <th>Type</th>\n",
              "      <th>Air temperature [K]</th>\n",
              "      <th>Torque [Nm]</th>\n",
              "      <th>Tool wear [min]</th>\n",
              "      <th>Machine failure</th>\n",
              "    </tr>\n",
              "  </thead>\n",
              "  <tbody>\n",
              "    <tr>\n",
              "      <th>0</th>\n",
              "      <td>2</td>\n",
              "      <td>298.1</td>\n",
              "      <td>42.8</td>\n",
              "      <td>0</td>\n",
              "      <td>0</td>\n",
              "    </tr>\n",
              "    <tr>\n",
              "      <th>1</th>\n",
              "      <td>1</td>\n",
              "      <td>298.2</td>\n",
              "      <td>46.3</td>\n",
              "      <td>3</td>\n",
              "      <td>0</td>\n",
              "    </tr>\n",
              "    <tr>\n",
              "      <th>2</th>\n",
              "      <td>1</td>\n",
              "      <td>298.1</td>\n",
              "      <td>49.4</td>\n",
              "      <td>5</td>\n",
              "      <td>0</td>\n",
              "    </tr>\n",
              "    <tr>\n",
              "      <th>3</th>\n",
              "      <td>1</td>\n",
              "      <td>298.2</td>\n",
              "      <td>39.5</td>\n",
              "      <td>7</td>\n",
              "      <td>0</td>\n",
              "    </tr>\n",
              "    <tr>\n",
              "      <th>4</th>\n",
              "      <td>1</td>\n",
              "      <td>298.2</td>\n",
              "      <td>40.0</td>\n",
              "      <td>9</td>\n",
              "      <td>0</td>\n",
              "    </tr>\n",
              "    <tr>\n",
              "      <th>...</th>\n",
              "      <td>...</td>\n",
              "      <td>...</td>\n",
              "      <td>...</td>\n",
              "      <td>...</td>\n",
              "      <td>...</td>\n",
              "    </tr>\n",
              "    <tr>\n",
              "      <th>9995</th>\n",
              "      <td>2</td>\n",
              "      <td>298.8</td>\n",
              "      <td>29.5</td>\n",
              "      <td>14</td>\n",
              "      <td>0</td>\n",
              "    </tr>\n",
              "    <tr>\n",
              "      <th>9996</th>\n",
              "      <td>0</td>\n",
              "      <td>298.9</td>\n",
              "      <td>31.8</td>\n",
              "      <td>17</td>\n",
              "      <td>0</td>\n",
              "    </tr>\n",
              "    <tr>\n",
              "      <th>9997</th>\n",
              "      <td>2</td>\n",
              "      <td>299.0</td>\n",
              "      <td>33.4</td>\n",
              "      <td>22</td>\n",
              "      <td>0</td>\n",
              "    </tr>\n",
              "    <tr>\n",
              "      <th>9998</th>\n",
              "      <td>0</td>\n",
              "      <td>299.0</td>\n",
              "      <td>48.5</td>\n",
              "      <td>25</td>\n",
              "      <td>0</td>\n",
              "    </tr>\n",
              "    <tr>\n",
              "      <th>9999</th>\n",
              "      <td>2</td>\n",
              "      <td>299.0</td>\n",
              "      <td>40.2</td>\n",
              "      <td>30</td>\n",
              "      <td>0</td>\n",
              "    </tr>\n",
              "  </tbody>\n",
              "</table>\n",
              "<p>10000 rows × 5 columns</p>\n",
              "</div>"
            ],
            "text/plain": [
              "      Type  Air temperature [K]  Torque [Nm]  Tool wear [min]  Machine failure\n",
              "0        2                298.1         42.8                0                0\n",
              "1        1                298.2         46.3                3                0\n",
              "2        1                298.1         49.4                5                0\n",
              "3        1                298.2         39.5                7                0\n",
              "4        1                298.2         40.0                9                0\n",
              "...    ...                  ...          ...              ...              ...\n",
              "9995     2                298.8         29.5               14                0\n",
              "9996     0                298.9         31.8               17                0\n",
              "9997     2                299.0         33.4               22                0\n",
              "9998     0                299.0         48.5               25                0\n",
              "9999     2                299.0         40.2               30                0\n",
              "\n",
              "[10000 rows x 5 columns]"
            ]
          },
          "metadata": {},
          "execution_count": 5
        }
      ]
    },
    {
      "cell_type": "markdown",
      "metadata": {
        "id": "VhvrD-08F90Q"
      },
      "source": [
        "**Dividiendo el data set**"
      ]
    },
    {
      "cell_type": "code",
      "metadata": {
        "id": "RoKOJGkA-VYo"
      },
      "source": [
        "X = df.drop(['Machine failure'], axis=1).values\n",
        "y = df['Machine failure'].values"
      ],
      "execution_count": 6,
      "outputs": []
    },
    {
      "cell_type": "markdown",
      "metadata": {
        "id": "Pp8pYwF0GBIQ"
      },
      "source": [
        "**Creando set de entrenamiento y de prueba**"
      ]
    },
    {
      "cell_type": "code",
      "metadata": {
        "colab": {
          "base_uri": "https://localhost:8080/"
        },
        "id": "XlQquMqW-cDT",
        "outputId": "aea165ec-682a-4db4-b93e-ce93340cc80e"
      },
      "source": [
        "from sklearn.model_selection import train_test_split\n",
        "\n",
        "X_train, X_test, y_train, y_test = train_test_split(X, y, test_size=0.20, random_state=42)\n",
        "\n",
        "print(len(df.loc[df['Machine failure']==1,]))\n",
        "y_test.sum()"
      ],
      "execution_count": 7,
      "outputs": [
        {
          "output_type": "stream",
          "name": "stdout",
          "text": [
            "339\n"
          ]
        },
        {
          "output_type": "execute_result",
          "data": {
            "text/plain": [
              "61"
            ]
          },
          "metadata": {},
          "execution_count": 7
        }
      ]
    },
    {
      "cell_type": "markdown",
      "metadata": {
        "id": "gBt-YzJZM6wD"
      },
      "source": [
        "**Normalizando datos**"
      ]
    },
    {
      "cell_type": "code",
      "metadata": {
        "colab": {
          "base_uri": "https://localhost:8080/"
        },
        "id": "nzbwNggbM7ER",
        "outputId": "bba3f508-ec02-4a15-eaae-9ef648c67794"
      },
      "source": [
        "from sklearn.preprocessing import StandardScaler\n",
        "\n",
        "scaler = StandardScaler()\n",
        "X_train_scaled = scaler.fit_transform(X_train)\n",
        "X_test_scaled = scaler.transform(X_test)\n",
        "X_train_scaled"
      ],
      "execution_count": 8,
      "outputs": [
        {
          "output_type": "execute_result",
          "data": {
            "text/plain": [
              "array([[-0.33656929, -0.85406604, -0.60958879,  0.42763418, -0.89269644,\n",
              "         1.37503539],\n",
              "       [-0.33656929, -0.90401361, -1.08052803, -0.83494457,  1.38218727,\n",
              "         0.45762016],\n",
              "       [-0.33656929, -0.90401361, -1.48419023, -0.05967692, -0.89269644,\n",
              "         1.35921788],\n",
              "       ...,\n",
              "       [-1.99863988,  1.39357475,  1.54327629, -0.30887009,  0.72076734,\n",
              "         1.81792549],\n",
              "       [-1.99863988, -1.95291265, -2.08968354,  0.01231222, -0.74237372,\n",
              "        -1.18740025],\n",
              "       [-0.33656929,  0.09493785,  0.26501265,  1.49085839, -1.42383669,\n",
              "        -1.15576524]])"
            ]
          },
          "metadata": {},
          "execution_count": 8
        }
      ]
    },
    {
      "cell_type": "markdown",
      "metadata": {
        "id": "1BApas4lG4FG"
      },
      "source": [
        "**Implementando modelo de RandomForestClassifier**"
      ]
    },
    {
      "cell_type": "code",
      "metadata": {
        "id": "5LS0imUqU-cW",
        "colab": {
          "base_uri": "https://localhost:8080/"
        },
        "outputId": "b903205c-b9c5-4b7a-f2b0-8181a7762071"
      },
      "source": [
        "from sklearn.ensemble import RandomForestClassifier\n",
        "\n",
        "forest_clf = RandomForestClassifier()\n",
        "forest_clf.fit(X_train, y_train)"
      ],
      "execution_count": 9,
      "outputs": [
        {
          "output_type": "execute_result",
          "data": {
            "text/plain": [
              "RandomForestClassifier()"
            ]
          },
          "metadata": {},
          "execution_count": 9
        }
      ]
    },
    {
      "cell_type": "markdown",
      "metadata": {
        "id": "553n_IvOy5dA"
      },
      "source": [
        "**Cross Validation en el train Random Forest**"
      ]
    },
    {
      "cell_type": "code",
      "metadata": {
        "colab": {
          "base_uri": "https://localhost:8080/"
        },
        "id": "cQjQbnqcyeAZ",
        "outputId": "e4ff2aab-5237-4aa8-a1fa-c2f09bc9a68d"
      },
      "source": [
        "from sklearn.model_selection import cross_val_score\n",
        "\n",
        "scores = cross_val_score(forest_clf, X_train, y_train, scoring=\"accuracy\", cv=5)\n",
        "rf_scores = np.sqrt(scores)\n",
        "\n",
        "def display_scores(scores):\n",
        "    print(\"Scores:\", scores)\n",
        "    print(\"Accuracy:\", scores.mean())\n",
        "    print(\"Standard deviation:\", scores.std())\n",
        "\n",
        "display_scores(rf_scores)"
      ],
      "execution_count": 10,
      "outputs": [
        {
          "output_type": "stream",
          "name": "stdout",
          "text": [
            "Scores: [0.99341582 0.99026512 0.9915266  0.99089606 0.99089606]\n",
            "Accuracy: 0.9913999318690866\n",
            "Standard deviation: 0.001084015668957847\n"
          ]
        }
      ]
    },
    {
      "cell_type": "markdown",
      "metadata": {
        "id": "-9cannO86_3M"
      },
      "source": [
        "**Cross Validation en el test Random Forest**"
      ]
    },
    {
      "cell_type": "code",
      "metadata": {
        "colab": {
          "base_uri": "https://localhost:8080/"
        },
        "id": "p2naO1nw7AJH",
        "outputId": "07493c48-5605-4fc4-f629-55aba6cbd445"
      },
      "source": [
        "scores = cross_val_score(forest_clf, X_test, y_test, scoring=\"accuracy\", cv=5)\n",
        "rf_scores = np.sqrt(scores)\n",
        "\n",
        "def display_scores(scores):\n",
        "    print(\"Scores:\", scores)\n",
        "    print(\"Accuracy:\", scores.mean())\n",
        "    print(\"Standard deviation:\", scores.std())\n",
        "\n",
        "display_scores(rf_scores)"
      ],
      "execution_count": 11,
      "outputs": [
        {
          "output_type": "stream",
          "name": "stdout",
          "text": [
            "Scores: [0.98615415 0.98615415 0.98994949 0.98615415 0.988686  ]\n",
            "Accuracy: 0.987419585764566\n",
            "Standard deviation: 0.0016005150837472338\n"
          ]
        }
      ]
    },
    {
      "cell_type": "markdown",
      "metadata": {
        "id": "MfvXX9n97XZM"
      },
      "source": [
        "**Imprimiendo Accuracy en el train con el modelo RandomForest**"
      ]
    },
    {
      "cell_type": "code",
      "metadata": {
        "colab": {
          "base_uri": "https://localhost:8080/"
        },
        "id": "mM025ieq7XqU",
        "outputId": "92942b47-bed0-408c-eec1-9d7c0168cb95"
      },
      "source": [
        "from sklearn.metrics import classification_report \n",
        "\n",
        "forest_predict = forest_clf.predict(X_train)\n",
        "print(classification_report(y_train, forest_predict))"
      ],
      "execution_count": 12,
      "outputs": [
        {
          "output_type": "stream",
          "name": "stdout",
          "text": [
            "              precision    recall  f1-score   support\n",
            "\n",
            "           0       1.00      1.00      1.00      7722\n",
            "           1       1.00      1.00      1.00       278\n",
            "\n",
            "    accuracy                           1.00      8000\n",
            "   macro avg       1.00      1.00      1.00      8000\n",
            "weighted avg       1.00      1.00      1.00      8000\n",
            "\n"
          ]
        }
      ]
    },
    {
      "cell_type": "markdown",
      "metadata": {
        "id": "qzr6GM-2Oi4H"
      },
      "source": [
        "**Imprimiendo Accuracy en el test con el modelo RandomForest**"
      ]
    },
    {
      "cell_type": "code",
      "metadata": {
        "colab": {
          "base_uri": "https://localhost:8080/"
        },
        "id": "a4k8GriOOjHB",
        "outputId": "f5ab1081-3582-4d38-a761-6bf3d68b33e7"
      },
      "source": [
        "forest_y_predict = forest_clf.predict(X_test)\n",
        "print(classification_report(y_test, forest_y_predict))"
      ],
      "execution_count": 13,
      "outputs": [
        {
          "output_type": "stream",
          "name": "stdout",
          "text": [
            "              precision    recall  f1-score   support\n",
            "\n",
            "           0       0.99      1.00      0.99      1939\n",
            "           1       0.86      0.59      0.70        61\n",
            "\n",
            "    accuracy                           0.98      2000\n",
            "   macro avg       0.92      0.79      0.85      2000\n",
            "weighted avg       0.98      0.98      0.98      2000\n",
            "\n"
          ]
        }
      ]
    },
    {
      "cell_type": "markdown",
      "metadata": {
        "id": "Ke2Lt7jGHGFH"
      },
      "source": [
        "**Imprimiendo resultados de la clasificación en el train (RandomForest)**"
      ]
    },
    {
      "cell_type": "code",
      "metadata": {
        "colab": {
          "base_uri": "https://localhost:8080/",
          "height": 421
        },
        "id": "GW_Ynx0pVAEY",
        "outputId": "6686f50d-44a3-4ce0-f935-4a14b1442d00"
      },
      "source": [
        "from sklearn.metrics import confusion_matrix, classification_report\n",
        "\n",
        "forest_pred = forest_clf.predict(X_train)\n",
        "\n",
        "cm = confusion_matrix(y_train, forest_pred)\n",
        "sns.heatmap(cm, annot=True, fmt='d')\n",
        "plt.show()\n",
        "print(classification_report(y_train, forest_pred))"
      ],
      "execution_count": 14,
      "outputs": [
        {
          "output_type": "display_data",
          "data": {
            "image/png": "[encoded data removed]",
            "text/plain": [
              "<Figure size 432x288 with 2 Axes>"
            ]
          },
          "metadata": {
            "needs_background": "light"
          }
        },
        {
          "output_type": "stream",
          "name": "stdout",
          "text": [
            "              precision    recall  f1-score   support\n",
            "\n",
            "           0       1.00      1.00      1.00      7722\n",
            "           1       1.00      1.00      1.00       278\n",
            "\n",
            "    accuracy                           1.00      8000\n",
            "   macro avg       1.00      1.00      1.00      8000\n",
            "weighted avg       1.00      1.00      1.00      8000\n",
            "\n"
          ]
        }
      ]
    },
    {
      "cell_type": "markdown",
      "metadata": {
        "id": "9sfqs7BMHcyF"
      },
      "source": [
        "**Imprimiendo resultados de la clasificación en el test (RandomForest)**"
      ]
    },
    {
      "cell_type": "code",
      "metadata": {
        "colab": {
          "base_uri": "https://localhost:8080/",
          "height": 421
        },
        "id": "N5tAVz_vVWiF",
        "outputId": "3d3a52a3-99cd-4070-f874-0b6a632854ca"
      },
      "source": [
        "forest_y_pred = forest_clf.predict(X_test)\n",
        "\n",
        "cm = confusion_matrix(y_test, forest_y_pred)\n",
        "sns.heatmap(cm, annot=True, fmt='d')\n",
        "plt.show()\n",
        "print(classification_report(y_test, forest_y_pred))"
      ],
      "execution_count": 15,
      "outputs": [
        {
          "output_type": "display_data",
          "data": {
            "image/png": "[encoded data removed]",
            "text/plain": [
              "<Figure size 432x288 with 2 Axes>"
            ]
          },
          "metadata": {
            "needs_background": "light"
          }
        },
        {
          "output_type": "stream",
          "name": "stdout",
          "text": [
            "              precision    recall  f1-score   support\n",
            "\n",
            "           0       0.99      1.00      0.99      1939\n",
            "           1       0.86      0.59      0.70        61\n",
            "\n",
            "    accuracy                           0.98      2000\n",
            "   macro avg       0.92      0.79      0.85      2000\n",
            "weighted avg       0.98      0.98      0.98      2000\n",
            "\n"
          ]
        }
      ]
    },
    {
      "cell_type": "markdown",
      "metadata": {
        "id": "H5qbkMXy9d-u"
      },
      "source": [
        "**Implementando modelo SVMClassifier**"
      ]
    },
    {
      "cell_type": "code",
      "metadata": {
        "colab": {
          "base_uri": "https://localhost:8080/"
        },
        "id": "TMSBFX4d7Fbv",
        "outputId": "51ec1c55-ca98-45b0-a47d-b03900e7e180"
      },
      "source": [
        "from sklearn.svm import SVC\n",
        "\n",
        "svc = SVC()\n",
        "svc.fit(X_train_scaled, y_train)"
      ],
      "execution_count": 16,
      "outputs": [
        {
          "output_type": "execute_result",
          "data": {
            "text/plain": [
              "SVC()"
            ]
          },
          "metadata": {},
          "execution_count": 16
        }
      ]
    },
    {
      "cell_type": "markdown",
      "metadata": {
        "id": "9uh0NRj8O4sP"
      },
      "source": [
        "**Imprimiendo Accuracy en el train con el modelo SVC**"
      ]
    },
    {
      "cell_type": "code",
      "metadata": {
        "colab": {
          "base_uri": "https://localhost:8080/"
        },
        "id": "NYF-RoRLO49n",
        "outputId": "50ceea31-8af5-4fa7-bad0-f80b3e426c9e"
      },
      "source": [
        "svc_predict = svc.predict(X_train_scaled)\n",
        "print(classification_report(y_train, svc_predict))"
      ],
      "execution_count": 17,
      "outputs": [
        {
          "output_type": "stream",
          "name": "stdout",
          "text": [
            "              precision    recall  f1-score   support\n",
            "\n",
            "           0       0.97      1.00      0.99      7722\n",
            "           1       0.95      0.29      0.44       278\n",
            "\n",
            "    accuracy                           0.97      8000\n",
            "   macro avg       0.96      0.64      0.71      8000\n",
            "weighted avg       0.97      0.97      0.97      8000\n",
            "\n"
          ]
        }
      ]
    },
    {
      "cell_type": "markdown",
      "metadata": {
        "id": "0Q2Ty_Gn8nsa"
      },
      "source": [
        "**Imprimiendo Accuracy en el test con el modelo SVC**"
      ]
    },
    {
      "cell_type": "code",
      "metadata": {
        "colab": {
          "base_uri": "https://localhost:8080/"
        },
        "id": "GYPBfNkX8n-e",
        "outputId": "a5e6048c-2d82-4f8b-9504-2cbd21cd9c9d"
      },
      "source": [
        "svc_y_predict = svc.predict(X_test_scaled)\n",
        "print(classification_report(y_test, svc_y_predict))"
      ],
      "execution_count": 18,
      "outputs": [
        {
          "output_type": "stream",
          "name": "stdout",
          "text": [
            "              precision    recall  f1-score   support\n",
            "\n",
            "           0       0.98      1.00      0.99      1939\n",
            "           1       0.86      0.30      0.44        61\n",
            "\n",
            "    accuracy                           0.98      2000\n",
            "   macro avg       0.92      0.65      0.71      2000\n",
            "weighted avg       0.97      0.98      0.97      2000\n",
            "\n"
          ]
        }
      ]
    },
    {
      "cell_type": "markdown",
      "metadata": {
        "id": "IlMG_XG_zCtk"
      },
      "source": [
        "**Cross Validation en el train SVC**"
      ]
    },
    {
      "cell_type": "code",
      "metadata": {
        "colab": {
          "base_uri": "https://localhost:8080/"
        },
        "id": "XXw1f3BezDA8",
        "outputId": "ff5c3bcf-152e-4b42-e406-1d4c1af0b07e"
      },
      "source": [
        "scores = cross_val_score(svc, X_train, y_train, scoring=\"accuracy\", cv=5)\n",
        "svc_scores = np.sqrt(scores)\n",
        "\n",
        "def display_scores(scores):\n",
        "    print(\"Scores:\", scores)\n",
        "    print(\"Accuracy:\", scores.mean())\n",
        "    print(\"Standard deviation:\", scores.std())\n",
        "\n",
        "display_scores(svc_scores)"
      ],
      "execution_count": 19,
      "outputs": [
        {
          "output_type": "stream",
          "name": "stdout",
          "text": [
            "Scores: [0.9826622  0.98298016 0.98234414 0.98234414 0.98234414]\n",
            "Accuracy: 0.9825349537153654\n",
            "Standard deviation: 0.00025441608561335325\n"
          ]
        }
      ]
    },
    {
      "cell_type": "markdown",
      "metadata": {
        "id": "cDydRr_L870p"
      },
      "source": [
        "**Cross Validation en el test SVC**"
      ]
    },
    {
      "cell_type": "code",
      "metadata": {
        "colab": {
          "base_uri": "https://localhost:8080/"
        },
        "id": "2A42IvBw9AVP",
        "outputId": "c6a2bed6-fcf6-4346-c757-a44e7e12f51e"
      },
      "source": [
        "scores = cross_val_score(svc, X_test, y_test, scoring=\"accuracy\", cv=5)\n",
        "svc_scores = np.sqrt(scores)\n",
        "\n",
        "def display_scores(scores):\n",
        "    print(\"Scores:\", scores)\n",
        "    print(\"Accuracy:\", scores.mean())\n",
        "    print(\"Standard deviation:\", scores.std())\n",
        "\n",
        "display_scores(svc_scores)"
      ],
      "execution_count": 20,
      "outputs": [
        {
          "output_type": "stream",
          "name": "stdout",
          "text": [
            "Scores: [0.98488578 0.98488578 0.98488578 0.98488578 0.98361578]\n",
            "Accuracy: 0.9846317798727483\n",
            "Standard deviation: 0.0005080006137241355\n"
          ]
        }
      ]
    },
    {
      "cell_type": "markdown",
      "metadata": {
        "id": "L951KlXNPLdJ"
      },
      "source": [
        "**Imprimiendo resultados de la clasificación en el train (SVC)**"
      ]
    },
    {
      "cell_type": "code",
      "metadata": {
        "colab": {
          "base_uri": "https://localhost:8080/",
          "height": 421
        },
        "id": "E9HDn9lLKV6m",
        "outputId": "79c3c6b1-c8d6-4fdd-b8c6-88e4fa257782"
      },
      "source": [
        "svc_pred = svc.predict(X_train_scaled)\n",
        "\n",
        "cm = confusion_matrix(y_train, svc_pred)\n",
        "sns.heatmap(cm, annot=True, fmt='d')\n",
        "plt.show()\n",
        "print(classification_report(y_train, svc_pred))"
      ],
      "execution_count": 21,
      "outputs": [
        {
          "output_type": "display_data",
          "data": {
            "image/png": "[encoded data removed]",
            "text/plain": [
              "<Figure size 432x288 with 2 Axes>"
            ]
          },
          "metadata": {
            "needs_background": "light"
          }
        },
        {
          "output_type": "stream",
          "name": "stdout",
          "text": [
            "              precision    recall  f1-score   support\n",
            "\n",
            "           0       0.97      1.00      0.99      7722\n",
            "           1       0.95      0.29      0.44       278\n",
            "\n",
            "    accuracy                           0.97      8000\n",
            "   macro avg       0.96      0.64      0.71      8000\n",
            "weighted avg       0.97      0.97      0.97      8000\n",
            "\n"
          ]
        }
      ]
    },
    {
      "cell_type": "markdown",
      "metadata": {
        "id": "srCmQCqGPMQO"
      },
      "source": [
        "**Imprimiendo resultados de la clasificación en el test (SVC)**"
      ]
    },
    {
      "cell_type": "code",
      "metadata": {
        "colab": {
          "base_uri": "https://localhost:8080/",
          "height": 421
        },
        "id": "vD4D7b3FKWGp",
        "outputId": "7917a6aa-eb22-4945-a62a-9495fcd1e7e1"
      },
      "source": [
        "svc_y_pred = svc.predict(X_test_scaled)\n",
        "\n",
        "cm = confusion_matrix(y_test, svc_y_pred)\n",
        "sns.heatmap(cm, annot=True, fmt='d')\n",
        "plt.show()\n",
        "print(classification_report(y_test, svc_y_pred))"
      ],
      "execution_count": 22,
      "outputs": [
        {
          "output_type": "display_data",
          "data": {
            "image/png": "[encoded data removed]",
            "text/plain": [
              "<Figure size 432x288 with 2 Axes>"
            ]
          },
          "metadata": {
            "needs_background": "light"
          }
        },
        {
          "output_type": "stream",
          "name": "stdout",
          "text": [
            "              precision    recall  f1-score   support\n",
            "\n",
            "           0       0.98      1.00      0.99      1939\n",
            "           1       0.86      0.30      0.44        61\n",
            "\n",
            "    accuracy                           0.98      2000\n",
            "   macro avg       0.92      0.65      0.71      2000\n",
            "weighted avg       0.97      0.98      0.97      2000\n",
            "\n"
          ]
        }
      ]
    },
    {
      "cell_type": "markdown",
      "metadata": {
        "id": "P1nno3Z3gZTk"
      },
      "source": [
        "**GridSearch RandomForestClassifier**"
      ]
    },
    {
      "cell_type": "code",
      "metadata": {
        "id": "Z629ocRYcr4x",
        "colab": {
          "base_uri": "https://localhost:8080/"
        },
        "outputId": "36b76574-68f4-4ffe-c8a8-a398dbb93d96"
      },
      "source": [
        "from sklearn.model_selection import GridSearchCV\n",
        "\n",
        "param_grid = [\n",
        "    {'max_depth': [3, 10, 20], 'min_samples_leaf': [0.05, 0.1], \n",
        "        'max_features': ['sqrt', 'log2'], 'ccp_alpha': [0, 0.01], 'n_jobs': [1, 2, 3]}\n",
        "]\n",
        "\n",
        "grid_search = GridSearchCV(forest_clf, param_grid, cv=3,\n",
        "                           scoring='accuracy',\n",
        "                           return_train_score=True)\n",
        "\n",
        "grid_search.fit(X_train, y_train.ravel())"
      ],
      "execution_count": 23,
      "outputs": [
        {
          "output_type": "execute_result",
          "data": {
            "text/plain": [
              "GridSearchCV(cv=3, estimator=RandomForestClassifier(),\n",
              "             param_grid=[{'ccp_alpha': [0, 0.01], 'max_depth': [3, 10, 20],\n",
              "                          'max_features': ['sqrt', 'log2'],\n",
              "                          'min_samples_leaf': [0.05, 0.1],\n",
              "                          'n_jobs': [1, 2, 3]}],\n",
              "             return_train_score=True, scoring='accuracy')"
            ]
          },
          "metadata": {},
          "execution_count": 23
        }
      ]
    },
    {
      "cell_type": "markdown",
      "metadata": {
        "id": "F6yCungP_Sr7"
      },
      "source": [
        "**Grid Search mejores hiperparametros (RandomForest)**"
      ]
    },
    {
      "cell_type": "code",
      "metadata": {
        "id": "aOH1MFeHcsZQ",
        "colab": {
          "base_uri": "https://localhost:8080/"
        },
        "outputId": "e0c5e98b-40a5-4967-ff59-ce9d1331d2de"
      },
      "source": [
        "grid_search.best_estimator_"
      ],
      "execution_count": 24,
      "outputs": [
        {
          "output_type": "execute_result",
          "data": {
            "text/plain": [
              "RandomForestClassifier(ccp_alpha=0, max_depth=3, max_features='sqrt',\n",
              "                       min_samples_leaf=0.05, n_jobs=1)"
            ]
          },
          "metadata": {},
          "execution_count": 24
        }
      ]
    },
    {
      "cell_type": "markdown",
      "metadata": {
        "id": "hvhQyePJDlt4"
      },
      "source": [
        "**Implementando modelo con los mejores hiperparametros (RandomForest)**"
      ]
    },
    {
      "cell_type": "code",
      "metadata": {
        "id": "tlymuzO6cscy"
      },
      "source": [
        "forest_clf = RandomForestClassifier(max_depth=3, max_features='sqrt', \n",
        "                                        n_jobs=1, min_samples_leaf=0.05)\n",
        "forest_clf = forest_clf.fit(X_train, y_train.ravel())"
      ],
      "execution_count": 25,
      "outputs": []
    },
    {
      "cell_type": "markdown",
      "metadata": {
        "id": "L1q4pdRuzTw-"
      },
      "source": [
        "**Cross Validation con Hiperparametros en el train (RandomForest)**"
      ]
    },
    {
      "cell_type": "code",
      "metadata": {
        "colab": {
          "base_uri": "https://localhost:8080/"
        },
        "id": "HBdIN5DqzRp4",
        "outputId": "415bf241-6263-421e-d496-c886e49cf3e0"
      },
      "source": [
        "scores = cross_val_score(forest_clf, X_train, y_train, scoring=\"accuracy\", cv=5)\n",
        "rf_scores = np.sqrt(scores)\n",
        "\n",
        "def display_scores(scores):\n",
        "    print(\"Scores:\", scores)\n",
        "    print(\"Accuracy:\", scores.mean())\n",
        "    print(\"Standard deviation:\", scores.std())\n",
        "\n",
        "display_scores(rf_scores)"
      ],
      "execution_count": 26,
      "outputs": [
        {
          "output_type": "stream",
          "name": "stdout",
          "text": [
            "Scores: [0.9826622  0.9826622  0.98234414 0.98234414 0.98234414]\n",
            "Accuracy: 0.9824713612723259\n",
            "Standard deviation: 0.00015581945579779615\n"
          ]
        }
      ]
    },
    {
      "cell_type": "markdown",
      "metadata": {
        "id": "j5n7TjGA9Xoa"
      },
      "source": [
        "**Cross Validation con Hiperparametros en el test (RandomForest)**"
      ]
    },
    {
      "cell_type": "code",
      "metadata": {
        "colab": {
          "base_uri": "https://localhost:8080/"
        },
        "id": "5JwqVx7O9XCF",
        "outputId": "79a07b6b-3993-4d2d-dbf8-2cedf14ae677"
      },
      "source": [
        "scores = cross_val_score(forest_clf, X_test, y_test, scoring=\"accuracy\", cv=5)\n",
        "rf_scores = np.sqrt(scores)\n",
        "\n",
        "def display_scores(scores):\n",
        "    print(\"Scores:\", scores)\n",
        "    print(\"Accuracy:\", scores.mean())\n",
        "    print(\"Standard deviation:\", scores.std())\n",
        "\n",
        "display_scores(rf_scores)"
      ],
      "execution_count": 27,
      "outputs": [
        {
          "output_type": "stream",
          "name": "stdout",
          "text": [
            "Scores: [0.98488578 0.98488578 0.98488578 0.98488578 0.98361578]\n",
            "Accuracy: 0.9846317798727483\n",
            "Standard deviation: 0.0005080006137241355\n"
          ]
        }
      ]
    },
    {
      "cell_type": "markdown",
      "metadata": {
        "id": "0z4rR2wAKweL"
      },
      "source": [
        "**Imprimiendo Accuracy en el train con GridSearch (RandomForest)**"
      ]
    },
    {
      "cell_type": "code",
      "metadata": {
        "colab": {
          "base_uri": "https://localhost:8080/"
        },
        "id": "TOYxy8bLKwtI",
        "outputId": "83b47570-8786-4bba-d916-adef05ab15e3"
      },
      "source": [
        "forest_predict = forest_clf.predict(X_train)\n",
        "print(classification_report(y_train, forest_predict))"
      ],
      "execution_count": 28,
      "outputs": [
        {
          "output_type": "stream",
          "name": "stdout",
          "text": [
            "              precision    recall  f1-score   support\n",
            "\n",
            "           0       0.97      1.00      0.98      7722\n",
            "           1       0.00      0.00      0.00       278\n",
            "\n",
            "    accuracy                           0.97      8000\n",
            "   macro avg       0.48      0.50      0.49      8000\n",
            "weighted avg       0.93      0.97      0.95      8000\n",
            "\n"
          ]
        }
      ]
    },
    {
      "cell_type": "markdown",
      "metadata": {
        "id": "o2_0LXHUPq4C"
      },
      "source": [
        "**Imprimiendo Accuracy en el test con GridSearch (RandomForest)**"
      ]
    },
    {
      "cell_type": "code",
      "metadata": {
        "colab": {
          "base_uri": "https://localhost:8080/"
        },
        "id": "DdQM-pB2P5OV",
        "outputId": "cb1d0f31-4cf3-45be-8f2e-62bd27293f96"
      },
      "source": [
        "forest_y_predict = forest_clf.predict(X_test)\n",
        "print(classification_report(y_test, forest_y_predict))"
      ],
      "execution_count": 29,
      "outputs": [
        {
          "output_type": "stream",
          "name": "stdout",
          "text": [
            "              precision    recall  f1-score   support\n",
            "\n",
            "           0       0.97      1.00      0.98      1939\n",
            "           1       0.00      0.00      0.00        61\n",
            "\n",
            "    accuracy                           0.97      2000\n",
            "   macro avg       0.48      0.50      0.49      2000\n",
            "weighted avg       0.94      0.97      0.95      2000\n",
            "\n"
          ]
        }
      ]
    },
    {
      "cell_type": "markdown",
      "metadata": {
        "id": "xcfsMDsqDmgx"
      },
      "source": [
        "**Imprimiendo resultados de la clasificación en el train con hiperparametros (RandomForest)**"
      ]
    },
    {
      "cell_type": "code",
      "metadata": {
        "id": "bGKJtsj6csgo",
        "colab": {
          "base_uri": "https://localhost:8080/",
          "height": 421
        },
        "outputId": "8dae1139-d07d-4c37-85fe-030780d51098"
      },
      "source": [
        "forest_pred = forest_clf.predict(X_train)\n",
        "\n",
        "cm = confusion_matrix(y_train, forest_pred)\n",
        "sns.heatmap(cm, annot=True, fmt='d')\n",
        "plt.show()\n",
        "print(classification_report(y_train, forest_pred))"
      ],
      "execution_count": 30,
      "outputs": [
        {
          "output_type": "display_data",
          "data": {
            "image/png": "[encoded data removed]",
            "text/plain": [
              "<Figure size 432x288 with 2 Axes>"
            ]
          },
          "metadata": {
            "needs_background": "light"
          }
        },
        {
          "output_type": "stream",
          "name": "stdout",
          "text": [
            "              precision    recall  f1-score   support\n",
            "\n",
            "           0       0.97      1.00      0.98      7722\n",
            "           1       0.00      0.00      0.00       278\n",
            "\n",
            "    accuracy                           0.97      8000\n",
            "   macro avg       0.48      0.50      0.49      8000\n",
            "weighted avg       0.93      0.97      0.95      8000\n",
            "\n"
          ]
        }
      ]
    },
    {
      "cell_type": "markdown",
      "metadata": {
        "id": "0KHe7JioDnMB"
      },
      "source": [
        "**Imprimiendo resultados de la clasificación en el test con hiperparametros (RandomForest)**"
      ]
    },
    {
      "cell_type": "code",
      "metadata": {
        "colab": {
          "base_uri": "https://localhost:8080/",
          "height": 421
        },
        "id": "5T2VOLWfDLPf",
        "outputId": "9d023708-360e-4ad4-820c-ea02835c8c15"
      },
      "source": [
        "forest_y_pred = forest_clf.predict(X_test)\n",
        "\n",
        "cm = confusion_matrix(y_test, forest_y_pred)\n",
        "sns.heatmap(cm, annot=True, fmt='d')\n",
        "plt.show()\n",
        "print(classification_report(y_test, forest_y_pred))"
      ],
      "execution_count": 31,
      "outputs": [
        {
          "output_type": "display_data",
          "data": {
            "image/png": "[encoded data removed]",
            "text/plain": [
              "<Figure size 432x288 with 2 Axes>"
            ]
          },
          "metadata": {
            "needs_background": "light"
          }
        },
        {
          "output_type": "stream",
          "name": "stdout",
          "text": [
            "              precision    recall  f1-score   support\n",
            "\n",
            "           0       0.97      1.00      0.98      1939\n",
            "           1       0.00      0.00      0.00        61\n",
            "\n",
            "    accuracy                           0.97      2000\n",
            "   macro avg       0.48      0.50      0.49      2000\n",
            "weighted avg       0.94      0.97      0.95      2000\n",
            "\n"
          ]
        }
      ]
    },
    {
      "cell_type": "markdown",
      "metadata": {
        "id": "zorRqeYX-LRt"
      },
      "source": [
        "**GridSearch SVMClassifier**"
      ]
    },
    {
      "cell_type": "code",
      "metadata": {
        "colab": {
          "base_uri": "https://localhost:8080/"
        },
        "id": "fw6kmJFl-D3w",
        "outputId": "09897be1-0908-4173-b5b9-7242381e7555"
      },
      "source": [
        "param_grid = [\n",
        "    {'C': [1, 10], 'gamma': [0.001, 0.01], 'kernel': ['poly', 'linear']},\n",
        "    {'C': [1, 10, 20], 'gamma': [1, 0.1, 0.01, 0.001], 'kernel': ['poly', 'linear', 'rbf', 'sigmoid']}   \n",
        "  ]\n",
        "\n",
        "grid_search = GridSearchCV(svc, param_grid, cv=5,\n",
        "                           scoring=\"accuracy\", \n",
        "                           refit=True)\n",
        "\n",
        "grid_search.fit(X_train_scaled, y_train)"
      ],
      "execution_count": 32,
      "outputs": [
        {
          "output_type": "execute_result",
          "data": {
            "text/plain": [
              "GridSearchCV(cv=5, estimator=SVC(),\n",
              "             param_grid=[{'C': [1, 10], 'gamma': [0.001, 0.01],\n",
              "                          'kernel': ['poly', 'linear']},\n",
              "                         {'C': [1, 10, 20], 'gamma': [1, 0.1, 0.01, 0.001],\n",
              "                          'kernel': ['poly', 'linear', 'rbf', 'sigmoid']}],\n",
              "             scoring='accuracy')"
            ]
          },
          "metadata": {},
          "execution_count": 32
        }
      ]
    },
    {
      "cell_type": "markdown",
      "metadata": {
        "id": "dduJ92cK_ZbV"
      },
      "source": [
        "**Grid Search Best Hyperparameters (SVC)**"
      ]
    },
    {
      "cell_type": "code",
      "metadata": {
        "colab": {
          "base_uri": "https://localhost:8080/"
        },
        "id": "fD5qHcXj-ECq",
        "outputId": "08e1750d-ffe0-41a4-e15f-4f074b598ae6"
      },
      "source": [
        "grid_search.best_estimator_"
      ],
      "execution_count": 33,
      "outputs": [
        {
          "output_type": "execute_result",
          "data": {
            "text/plain": [
              "SVC(C=20, gamma=0.1)"
            ]
          },
          "metadata": {},
          "execution_count": 33
        }
      ]
    },
    {
      "cell_type": "markdown",
      "metadata": {
        "id": "QAhn9zCiRJsh"
      },
      "source": [
        "**Implementando modelo con los mejores hiperparametros (SVC)**"
      ]
    },
    {
      "cell_type": "code",
      "metadata": {
        "colab": {
          "base_uri": "https://localhost:8080/"
        },
        "id": "rVmleyDP-EIX",
        "outputId": "ba1b3412-924f-454f-9c71-ee949cdae45c"
      },
      "source": [
        "svc = SVC(C=20, gamma=0.1)\n",
        "svc.fit(X_train_scaled, y_train)"
      ],
      "execution_count": 34,
      "outputs": [
        {
          "output_type": "execute_result",
          "data": {
            "text/plain": [
              "SVC(C=20, gamma=0.1)"
            ]
          },
          "metadata": {},
          "execution_count": 34
        }
      ]
    },
    {
      "cell_type": "markdown",
      "metadata": {
        "id": "OCi2L5RYzpDD"
      },
      "source": [
        "**Cross Validation con Hiperparametros en el train (SVC)**"
      ]
    },
    {
      "cell_type": "code",
      "metadata": {
        "colab": {
          "base_uri": "https://localhost:8080/"
        },
        "id": "mI3DIl2NzpUg",
        "outputId": "82cd4318-8d43-44df-fc3b-63f4bdd8cd7b"
      },
      "source": [
        "scores = cross_val_score(svc, X_train, y_train, scoring=\"accuracy\", cv=5)\n",
        "svc_scores = np.sqrt(scores)\n",
        "\n",
        "def display_scores(scores):\n",
        "    print(\"Scores:\", scores)\n",
        "    print(\"Accuracy:\", scores.mean())\n",
        "    print(\"Standard deviation:\", scores.std())\n",
        "\n",
        "display_scores(svc_scores)"
      ],
      "execution_count": 35,
      "outputs": [
        {
          "output_type": "stream",
          "name": "stdout",
          "text": [
            "Scores: [0.98202597 0.98202597 0.98202597 0.98202597 0.98202597]\n",
            "Accuracy: 0.9820259670701178\n",
            "Standard deviation: 0.0\n"
          ]
        }
      ]
    },
    {
      "cell_type": "markdown",
      "metadata": {
        "id": "ZqxkWrUh9saQ"
      },
      "source": [
        "**Cross Validation con Hiperparametros en el test (SVC)**"
      ]
    },
    {
      "cell_type": "code",
      "metadata": {
        "colab": {
          "base_uri": "https://localhost:8080/"
        },
        "id": "J72mMX8d9vkb",
        "outputId": "33967a72-307f-48cf-fd50-de38300bb45c"
      },
      "source": [
        "scores = cross_val_score(svc, X_test, y_test, scoring=\"accuracy\", cv=5)\n",
        "svc_scores = np.sqrt(scores)\n",
        "\n",
        "def display_scores(scores):\n",
        "    print(\"Scores:\", scores)\n",
        "    print(\"Accuracy:\", scores.mean())\n",
        "    print(\"Standard deviation:\", scores.std())\n",
        "\n",
        "display_scores(svc_scores)"
      ],
      "execution_count": 36,
      "outputs": [
        {
          "output_type": "stream",
          "name": "stdout",
          "text": [
            "Scores: [0.98488578 0.98488578 0.98488578 0.98488578 0.98361578]\n",
            "Accuracy: 0.9846317798727483\n",
            "Standard deviation: 0.0005080006137241355\n"
          ]
        }
      ]
    },
    {
      "cell_type": "markdown",
      "metadata": {
        "id": "2iPaY-_UQR3B"
      },
      "source": [
        "**Imprimiendo Accuracy en el train con GridSearch (SVC)**"
      ]
    },
    {
      "cell_type": "code",
      "metadata": {
        "colab": {
          "base_uri": "https://localhost:8080/"
        },
        "id": "Z2XqbuEP-EM_",
        "outputId": "306d1f74-748e-49f6-a818-f3ade88ba5fe"
      },
      "source": [
        "svc_predict = svc.predict(X_train_scaled)\n",
        "print(classification_report(y_train, svc_predict))"
      ],
      "execution_count": 37,
      "outputs": [
        {
          "output_type": "stream",
          "name": "stdout",
          "text": [
            "              precision    recall  f1-score   support\n",
            "\n",
            "           0       0.99      1.00      0.99      7722\n",
            "           1       0.94      0.62      0.75       278\n",
            "\n",
            "    accuracy                           0.99      8000\n",
            "   macro avg       0.97      0.81      0.87      8000\n",
            "weighted avg       0.98      0.99      0.98      8000\n",
            "\n"
          ]
        }
      ]
    },
    {
      "cell_type": "markdown",
      "metadata": {
        "id": "ksMv5hv8QSpF"
      },
      "source": [
        "**Imprimiendo Accuracy en el test con GridSearch (SVC)**"
      ]
    },
    {
      "cell_type": "code",
      "metadata": {
        "colab": {
          "base_uri": "https://localhost:8080/"
        },
        "id": "zv0jJGigQFf_",
        "outputId": "8a26ae2d-90e5-44aa-e892-0679d4e81d06"
      },
      "source": [
        "svc_y_predict = svc.predict(X_test_scaled)\n",
        "print(classification_report(y_test, svc_y_predict))"
      ],
      "execution_count": 38,
      "outputs": [
        {
          "output_type": "stream",
          "name": "stdout",
          "text": [
            "              precision    recall  f1-score   support\n",
            "\n",
            "           0       0.99      0.99      0.99      1939\n",
            "           1       0.74      0.52      0.62        61\n",
            "\n",
            "    accuracy                           0.98      2000\n",
            "   macro avg       0.86      0.76      0.80      2000\n",
            "weighted avg       0.98      0.98      0.98      2000\n",
            "\n"
          ]
        }
      ]
    },
    {
      "cell_type": "markdown",
      "metadata": {
        "id": "toYcJ1VwQpnT"
      },
      "source": [
        "**Imprimiendo resultados de la clasificación en el train con hiperparametros (SVC)**"
      ]
    },
    {
      "cell_type": "code",
      "metadata": {
        "colab": {
          "base_uri": "https://localhost:8080/",
          "height": 421
        },
        "id": "MRkiTY25Qp52",
        "outputId": "9474cfe8-17c9-4d25-87de-75bc35becc85"
      },
      "source": [
        "svc_pred = svc.predict(X_train_scaled)\n",
        "\n",
        "cm = confusion_matrix(y_train, svc_pred)\n",
        "sns.heatmap(cm, annot=True, fmt='d')\n",
        "plt.show()\n",
        "print(classification_report(y_train, svc_pred))"
      ],
      "execution_count": 39,
      "outputs": [
        {
          "output_type": "display_data",
          "data": {
            "image/png": "[encoded data removed]",
            "text/plain": [
              "<Figure size 432x288 with 2 Axes>"
            ]
          },
          "metadata": {
            "needs_background": "light"
          }
        },
        {
          "output_type": "stream",
          "name": "stdout",
          "text": [
            "              precision    recall  f1-score   support\n",
            "\n",
            "           0       0.99      1.00      0.99      7722\n",
            "           1       0.94      0.62      0.75       278\n",
            "\n",
            "    accuracy                           0.99      8000\n",
            "   macro avg       0.97      0.81      0.87      8000\n",
            "weighted avg       0.98      0.99      0.98      8000\n",
            "\n"
          ]
        }
      ]
    },
    {
      "cell_type": "markdown",
      "metadata": {
        "id": "rdafzTEcQqeH"
      },
      "source": [
        "**Imprimiendo resultados de la clasificación en el test con hiperparametros (SVC)**"
      ]
    },
    {
      "cell_type": "code",
      "metadata": {
        "colab": {
          "base_uri": "https://localhost:8080/",
          "height": 421
        },
        "id": "IaIissnUQFm6",
        "outputId": "adf518f6-1b47-4f43-e0d2-474971e345ea"
      },
      "source": [
        "svc_y_pred = svc.predict(X_test_scaled)\n",
        "\n",
        "cm = confusion_matrix(y_test, svc_y_pred)\n",
        "sns.heatmap(cm, annot=True, fmt='d')\n",
        "plt.show()\n",
        "print(classification_report(y_test, svc_y_pred))"
      ],
      "execution_count": 40,
      "outputs": [
        {
          "output_type": "display_data",
          "data": {
            "image/png": "[encoded data removed]",
            "text/plain": [
              "<Figure size 432x288 with 2 Axes>"
            ]
          },
          "metadata": {
            "needs_background": "light"
          }
        },
        {
          "output_type": "stream",
          "name": "stdout",
          "text": [
            "              precision    recall  f1-score   support\n",
            "\n",
            "           0       0.99      0.99      0.99      1939\n",
            "           1       0.74      0.52      0.62        61\n",
            "\n",
            "    accuracy                           0.98      2000\n",
            "   macro avg       0.86      0.76      0.80      2000\n",
            "weighted avg       0.98      0.98      0.98      2000\n",
            "\n"
          ]
        }
      ]
    },
    {
      "cell_type": "markdown",
      "metadata": {
        "id": "L3_ToZNEHgl2"
      },
      "source": [
        "**Re-dimensionando el set de entenamiento y de prueba para adaptarlo a la red LSTM**"
      ]
    },
    {
      "cell_type": "code",
      "metadata": {
        "id": "nhwGoYvmiYCX"
      },
      "source": [
        "X_train = np.reshape(X_train, (X_train.shape[0], 1, X_train.shape[1]))\n",
        "X_test = np.reshape(X_test, (X_test.shape[0], 1, X_test.shape[1]))"
      ],
      "execution_count": 41,
      "outputs": []
    },
    {
      "cell_type": "markdown",
      "metadata": {
        "id": "-L_e1ufuHqER"
      },
      "source": [
        "**Implementando y entrenando la red LSTM**"
      ]
    },
    {
      "cell_type": "code",
      "metadata": {
        "colab": {
          "base_uri": "https://localhost:8080/"
        },
        "id": "tu7hko9uXiHS",
        "outputId": "c465788c-2c0e-4ba7-f125-4b9d3ed24914"
      },
      "source": [
        "import tensorflow as tf\n",
        "from keras.models import Sequential\n",
        "from keras.layers import Dense, LSTM\n",
        "from keras.layers.core import Dense, Activation, Dropout\n",
        "  \n",
        "model = Sequential()\n",
        "model.add(LSTM(25, dropout=0.2, recurrent_dropout=0.2))\n",
        "model.add(Dense(10, activation='sigmoid'))\n",
        "model.add(Dropout(0.1))\n",
        "model.add(Dense(1))\n",
        "\n",
        "model.compile(optimizer='adam', loss='binary_crossentropy', metrics=['accuracy'])\n",
        "model.fit(X_train, y_train, epochs=30, batch_size=10, verbose=1)"
      ],
      "execution_count": 42,
      "outputs": [
        {
          "output_type": "stream",
          "name": "stdout",
          "text": [
            "Epoch 1/30\n",
            "800/800 [==============================] - 4s 3ms/step - loss: 0.5313 - accuracy: 0.9479\n",
            "Epoch 2/30\n",
            "800/800 [==============================] - 2s 3ms/step - loss: 0.5120 - accuracy: 0.9626\n",
            "Epoch 3/30\n",
            "800/800 [==============================] - 3s 3ms/step - loss: 0.4962 - accuracy: 0.9606\n",
            "Epoch 4/30\n",
            "800/800 [==============================] - 2s 3ms/step - loss: 0.4924 - accuracy: 0.9626\n",
            "Epoch 5/30\n",
            "800/800 [==============================] - 2s 3ms/step - loss: 0.5001 - accuracy: 0.9605\n",
            "Epoch 6/30\n",
            "800/800 [==============================] - 2s 3ms/step - loss: 0.5325 - accuracy: 0.9636\n",
            "Epoch 7/30\n",
            "800/800 [==============================] - 2s 3ms/step - loss: 0.5278 - accuracy: 0.9647\n",
            "Epoch 8/30\n",
            "800/800 [==============================] - 2s 3ms/step - loss: 0.5173 - accuracy: 0.9643\n",
            "Epoch 9/30\n",
            "800/800 [==============================] - 2s 3ms/step - loss: 0.5323 - accuracy: 0.9650\n",
            "Epoch 10/30\n",
            "800/800 [==============================] - 2s 3ms/step - loss: 0.5365 - accuracy: 0.9647\n",
            "Epoch 11/30\n",
            "800/800 [==============================] - 2s 3ms/step - loss: 0.5341 - accuracy: 0.9653\n",
            "Epoch 12/30\n",
            "800/800 [==============================] - 2s 3ms/step - loss: 0.5340 - accuracy: 0.9649\n",
            "Epoch 13/30\n",
            "800/800 [==============================] - 2s 3ms/step - loss: 0.5348 - accuracy: 0.9653\n",
            "Epoch 14/30\n",
            "800/800 [==============================] - 2s 3ms/step - loss: 0.5362 - accuracy: 0.9653\n",
            "Epoch 15/30\n",
            "800/800 [==============================] - 2s 3ms/step - loss: 0.5363 - accuracy: 0.9651\n",
            "Epoch 16/30\n",
            "800/800 [==============================] - 2s 3ms/step - loss: 0.5345 - accuracy: 0.9653\n",
            "Epoch 17/30\n",
            "800/800 [==============================] - 2s 3ms/step - loss: 0.5362 - accuracy: 0.9653\n",
            "Epoch 18/30\n",
            "800/800 [==============================] - 2s 3ms/step - loss: 0.5361 - accuracy: 0.9653\n",
            "Epoch 19/30\n",
            "800/800 [==============================] - 2s 3ms/step - loss: 0.5361 - accuracy: 0.9653\n",
            "Epoch 20/30\n",
            "800/800 [==============================] - 2s 3ms/step - loss: 0.5361 - accuracy: 0.9653\n",
            "Epoch 21/30\n",
            "800/800 [==============================] - 2s 3ms/step - loss: 0.5360 - accuracy: 0.9653\n",
            "Epoch 22/30\n",
            "800/800 [==============================] - 2s 3ms/step - loss: 0.5360 - accuracy: 0.9653\n",
            "Epoch 23/30\n",
            "800/800 [==============================] - 2s 3ms/step - loss: 0.5360 - accuracy: 0.9653\n",
            "Epoch 24/30\n",
            "800/800 [==============================] - 2s 3ms/step - loss: 0.5360 - accuracy: 0.9653\n",
            "Epoch 25/30\n",
            "800/800 [==============================] - 2s 3ms/step - loss: 0.5361 - accuracy: 0.9653\n",
            "Epoch 26/30\n",
            "800/800 [==============================] - 2s 3ms/step - loss: 0.5360 - accuracy: 0.9653\n",
            "Epoch 27/30\n",
            "800/800 [==============================] - 2s 3ms/step - loss: 0.5360 - accuracy: 0.9653\n",
            "Epoch 28/30\n",
            "800/800 [==============================] - 2s 3ms/step - loss: 0.5360 - accuracy: 0.9653\n",
            "Epoch 29/30\n",
            "800/800 [==============================] - 3s 3ms/step - loss: 0.5360 - accuracy: 0.9653\n",
            "Epoch 30/30\n",
            "800/800 [==============================] - 3s 3ms/step - loss: 0.5360 - accuracy: 0.9653\n"
          ]
        },
        {
          "output_type": "execute_result",
          "data": {
            "text/plain": [
              "<keras.callbacks.History at 0x7f8a6139a390>"
            ]
          },
          "metadata": {},
          "execution_count": 42
        }
      ]
    },
    {
      "cell_type": "code",
      "metadata": {
        "colab": {
          "base_uri": "https://localhost:8080/"
        },
        "id": "pRYBFb7HlPqd",
        "outputId": "e9318cdd-27a6-4c57-f930-b3c2942e0854"
      },
      "source": [
        "history = model.fit(X_train, y_train, epochs=30, batch_size=10,validation_split=0.1)"
      ],
      "execution_count": 43,
      "outputs": [
        {
          "output_type": "stream",
          "name": "stdout",
          "text": [
            "Epoch 1/30\n",
            "720/720 [==============================] - 3s 4ms/step - loss: 0.5206 - accuracy: 0.9663 - val_loss: 0.6748 - val_accuracy: 0.9563\n",
            "Epoch 2/30\n",
            "720/720 [==============================] - 2s 3ms/step - loss: 0.5206 - accuracy: 0.9663 - val_loss: 0.6748 - val_accuracy: 0.9563\n",
            "Epoch 3/30\n",
            "720/720 [==============================] - 2s 3ms/step - loss: 0.5206 - accuracy: 0.9663 - val_loss: 0.6748 - val_accuracy: 0.9563\n",
            "Epoch 4/30\n",
            "720/720 [==============================] - 2s 3ms/step - loss: 0.5206 - accuracy: 0.9663 - val_loss: 0.6748 - val_accuracy: 0.9563\n",
            "Epoch 5/30\n",
            "720/720 [==============================] - 2s 3ms/step - loss: 0.5206 - accuracy: 0.9663 - val_loss: 0.6748 - val_accuracy: 0.9563\n",
            "Epoch 6/30\n",
            "720/720 [==============================] - 2s 3ms/step - loss: 0.5206 - accuracy: 0.9663 - val_loss: 0.6748 - val_accuracy: 0.9563\n",
            "Epoch 7/30\n",
            "720/720 [==============================] - 2s 3ms/step - loss: 0.5206 - accuracy: 0.9663 - val_loss: 0.6748 - val_accuracy: 0.9563\n",
            "Epoch 8/30\n",
            "720/720 [==============================] - 2s 3ms/step - loss: 0.5206 - accuracy: 0.9663 - val_loss: 0.6748 - val_accuracy: 0.9563\n",
            "Epoch 9/30\n",
            "720/720 [==============================] - 2s 3ms/step - loss: 0.5206 - accuracy: 0.9663 - val_loss: 0.6748 - val_accuracy: 0.9563\n",
            "Epoch 10/30\n",
            "720/720 [==============================] - 2s 3ms/step - loss: 0.5206 - accuracy: 0.9663 - val_loss: 0.6748 - val_accuracy: 0.9563\n",
            "Epoch 11/30\n",
            "720/720 [==============================] - 2s 3ms/step - loss: 0.5206 - accuracy: 0.9663 - val_loss: 0.6748 - val_accuracy: 0.9563\n",
            "Epoch 12/30\n",
            "720/720 [==============================] - 2s 3ms/step - loss: 0.5206 - accuracy: 0.9663 - val_loss: 0.6748 - val_accuracy: 0.9563\n",
            "Epoch 13/30\n",
            "720/720 [==============================] - 2s 3ms/step - loss: 0.5206 - accuracy: 0.9663 - val_loss: 0.6748 - val_accuracy: 0.9563\n",
            "Epoch 14/30\n",
            "720/720 [==============================] - 2s 3ms/step - loss: 0.5206 - accuracy: 0.9663 - val_loss: 0.6748 - val_accuracy: 0.9563\n",
            "Epoch 15/30\n",
            "720/720 [==============================] - 2s 3ms/step - loss: 0.5206 - accuracy: 0.9663 - val_loss: 0.6748 - val_accuracy: 0.9563\n",
            "Epoch 16/30\n",
            "720/720 [==============================] - 2s 3ms/step - loss: 0.5206 - accuracy: 0.9663 - val_loss: 0.6748 - val_accuracy: 0.9563\n",
            "Epoch 17/30\n",
            "720/720 [==============================] - 2s 3ms/step - loss: 0.5206 - accuracy: 0.9663 - val_loss: 0.6748 - val_accuracy: 0.9563\n",
            "Epoch 18/30\n",
            "720/720 [==============================] - 2s 3ms/step - loss: 0.5206 - accuracy: 0.9663 - val_loss: 0.6748 - val_accuracy: 0.9563\n",
            "Epoch 19/30\n",
            "720/720 [==============================] - 2s 3ms/step - loss: 0.5206 - accuracy: 0.9663 - val_loss: 0.6748 - val_accuracy: 0.9563\n",
            "Epoch 20/30\n",
            "720/720 [==============================] - 2s 3ms/step - loss: 0.5206 - accuracy: 0.9663 - val_loss: 0.6748 - val_accuracy: 0.9563\n",
            "Epoch 21/30\n",
            "720/720 [==============================] - 2s 3ms/step - loss: 0.5206 - accuracy: 0.9663 - val_loss: 0.6748 - val_accuracy: 0.9563\n",
            "Epoch 22/30\n",
            "720/720 [==============================] - 2s 3ms/step - loss: 0.5206 - accuracy: 0.9663 - val_loss: 0.6748 - val_accuracy: 0.9563\n",
            "Epoch 23/30\n",
            "720/720 [==============================] - 2s 3ms/step - loss: 0.5206 - accuracy: 0.9663 - val_loss: 0.6748 - val_accuracy: 0.9563\n",
            "Epoch 24/30\n",
            "720/720 [==============================] - 2s 3ms/step - loss: 0.5206 - accuracy: 0.9663 - val_loss: 0.6748 - val_accuracy: 0.9563\n",
            "Epoch 25/30\n",
            "720/720 [==============================] - 2s 3ms/step - loss: 0.5206 - accuracy: 0.9663 - val_loss: 0.6748 - val_accuracy: 0.9563\n",
            "Epoch 26/30\n",
            "720/720 [==============================] - 2s 3ms/step - loss: 0.5206 - accuracy: 0.9663 - val_loss: 0.6748 - val_accuracy: 0.9563\n",
            "Epoch 27/30\n",
            "720/720 [==============================] - 2s 3ms/step - loss: 0.5206 - accuracy: 0.9663 - val_loss: 0.6748 - val_accuracy: 0.9563\n",
            "Epoch 28/30\n",
            "720/720 [==============================] - 2s 3ms/step - loss: 0.5206 - accuracy: 0.9663 - val_loss: 0.6748 - val_accuracy: 0.9563\n",
            "Epoch 29/30\n",
            "720/720 [==============================] - 2s 3ms/step - loss: 0.5206 - accuracy: 0.9663 - val_loss: 0.6748 - val_accuracy: 0.9563\n",
            "Epoch 30/30\n",
            "720/720 [==============================] - 2s 3ms/step - loss: 0.5206 - accuracy: 0.9663 - val_loss: 0.6748 - val_accuracy: 0.9563\n"
          ]
        }
      ]
    },
    {
      "cell_type": "code",
      "metadata": {
        "colab": {
          "base_uri": "https://localhost:8080/"
        },
        "id": "CJc7bREWmGKg",
        "outputId": "ec0ae9b8-239e-42a0-8aac-788e56f4970c"
      },
      "source": [
        "model.summary()"
      ],
      "execution_count": 44,
      "outputs": [
        {
          "output_type": "stream",
          "name": "stdout",
          "text": [
            "Model: \"sequential\"\n",
            "_________________________________________________________________\n",
            " Layer (type)                Output Shape              Param #   \n",
            "=================================================================\n",
            " lstm (LSTM)                 (10, 25)                  3200      \n",
            "                                                                 \n",
            " dense (Dense)               (10, 10)                  260       \n",
            "                                                                 \n",
            " dropout (Dropout)           (10, 10)                  0         \n",
            "                                                                 \n",
            " dense_1 (Dense)             (10, 1)                   11        \n",
            "                                                                 \n",
            "=================================================================\n",
            "Total params: 3,471\n",
            "Trainable params: 3,471\n",
            "Non-trainable params: 0\n",
            "_________________________________________________________________\n"
          ]
        }
      ]
    },
    {
      "cell_type": "markdown",
      "metadata": {
        "id": "e9lZxI4BD5DL"
      },
      "source": [
        "**Accuracy en train**"
      ]
    },
    {
      "cell_type": "code",
      "metadata": {
        "colab": {
          "base_uri": "https://localhost:8080/"
        },
        "id": "7xurK-_KDvbm",
        "outputId": "847c68b4-c901-4d72-ae83-6072c3aed4ff"
      },
      "source": [
        "acc = model.evaluate(X_train, y_train)\n",
        "print('Train set\\n  Loss: {:0.3f}\\n  Accuracy: {:0.3f}'.format(acc[0],acc[1]))"
      ],
      "execution_count": 50,
      "outputs": [
        {
          "output_type": "stream",
          "name": "stdout",
          "text": [
            "250/250 [==============================] - 1s 2ms/step - loss: 0.5360 - accuracy: 0.9653\n",
            "Train set\n",
            "  Loss: 0.536\n",
            "  Accuracy: 0.965\n"
          ]
        }
      ]
    },
    {
      "cell_type": "markdown",
      "metadata": {
        "id": "y_jJ72Sc0aZD"
      },
      "source": [
        "**Accuracy en test**"
      ]
    },
    {
      "cell_type": "code",
      "metadata": {
        "colab": {
          "base_uri": "https://localhost:8080/"
        },
        "id": "5CUxG5tnf0dx",
        "outputId": "c718488a-a4a4-4524-f175-f33e8d22fc81"
      },
      "source": [
        "acc = model.evaluate(X_test, y_test)\n",
        "print('Test set\\n  Loss: {:0.3f}\\n  Accuracy: {:0.3f}'.format(acc[0],acc[1]))"
      ],
      "execution_count": 45,
      "outputs": [
        {
          "output_type": "stream",
          "name": "stdout",
          "text": [
            "63/63 [==============================] - 1s 2ms/step - loss: 0.4705 - accuracy: 0.9695\n",
            "Test set\n",
            "  Loss: 0.470\n",
            "  Accuracy: 0.970\n"
          ]
        }
      ]
    },
    {
      "cell_type": "markdown",
      "metadata": {
        "id": "0N_yzoI60QJM"
      },
      "source": [
        "**Predicciones en el train de la red LSTM**"
      ]
    },
    {
      "cell_type": "code",
      "metadata": {
        "colab": {
          "base_uri": "https://localhost:8080/"
        },
        "id": "V0SQs7y5TwJ0",
        "outputId": "d10ba5f5-5f27-41cc-fb04-db10bbcc55be"
      },
      "source": [
        "y_predict = (model.predict(X_train) > 0.5).astype(\"int32\")\n",
        "print(y_predict.sum())\n",
        "print(y_train.sum())"
      ],
      "execution_count": 46,
      "outputs": [
        {
          "output_type": "stream",
          "name": "stdout",
          "text": [
            "0\n",
            "278\n"
          ]
        }
      ]
    },
    {
      "cell_type": "markdown",
      "metadata": {
        "id": "_a3E4FV60QzO"
      },
      "source": [
        "**Predicciones en el test de la red LSTM**"
      ]
    },
    {
      "cell_type": "code",
      "metadata": {
        "colab": {
          "base_uri": "https://localhost:8080/"
        },
        "id": "XB_dM5Vem4iX",
        "outputId": "db93a9f5-4789-4042-8e5f-c46a6feee981"
      },
      "source": [
        "y_pred = (model.predict(X_test) > 0.5).astype(\"int32\")\n",
        "print(y_pred.sum())\n",
        "print(y_test.sum())"
      ],
      "execution_count": 47,
      "outputs": [
        {
          "output_type": "stream",
          "name": "stdout",
          "text": [
            "0\n",
            "61\n"
          ]
        }
      ]
    },
    {
      "cell_type": "markdown",
      "metadata": {
        "id": "cNSt3Yuw0ALb"
      },
      "source": [
        "**Imprimiendo resultados de la clasificación en el train de la red LSTM**"
      ]
    },
    {
      "cell_type": "code",
      "metadata": {
        "colab": {
          "base_uri": "https://localhost:8080/",
          "height": 421
        },
        "id": "kdno9G8aTn45",
        "outputId": "70f725cb-5572-4b1e-d128-60c9dc77490c"
      },
      "source": [
        "cm = confusion_matrix(y_train, y_predict)\n",
        "sns.heatmap(cm, annot=True, fmt='d')\n",
        "plt.show()\n",
        "print(classification_report(y_train, y_predict))"
      ],
      "execution_count": 48,
      "outputs": [
        {
          "output_type": "display_data",
          "data": {
            "image/png": "[encoded data removed]",
            "text/plain": [
              "<Figure size 432x288 with 2 Axes>"
            ]
          },
          "metadata": {
            "needs_background": "light"
          }
        },
        {
          "output_type": "stream",
          "name": "stdout",
          "text": [
            "              precision    recall  f1-score   support\n",
            "\n",
            "           0       0.97      1.00      0.98      7722\n",
            "           1       0.00      0.00      0.00       278\n",
            "\n",
            "    accuracy                           0.97      8000\n",
            "   macro avg       0.48      0.50      0.49      8000\n",
            "weighted avg       0.93      0.97      0.95      8000\n",
            "\n"
          ]
        }
      ]
    },
    {
      "cell_type": "markdown",
      "metadata": {
        "id": "Ehka7iML0A48"
      },
      "source": [
        "**Imprimiendo resultados de la clasificación en el test de la red LSTM**"
      ]
    },
    {
      "cell_type": "code",
      "metadata": {
        "colab": {
          "base_uri": "https://localhost:8080/",
          "height": 421
        },
        "id": "JirF80zLm0ED",
        "outputId": "1e8a6ce0-6c54-45da-f745-1be38387c2b1"
      },
      "source": [
        "cm = confusion_matrix(y_test, y_pred)\n",
        "sns.heatmap(cm, annot=True, fmt='d')\n",
        "plt.show()\n",
        "print(classification_report(y_test, y_pred))"
      ],
      "execution_count": 49,
      "outputs": [
        {
          "output_type": "display_data",
          "data": {
            "image/png": "[encoded data removed]",
            "text/plain": [
              "<Figure size 432x288 with 2 Axes>"
            ]
          },
          "metadata": {
            "needs_background": "light"
          }
        },
        {
          "output_type": "stream",
          "name": "stdout",
          "text": [
            "              precision    recall  f1-score   support\n",
            "\n",
            "           0       0.97      1.00      0.98      1939\n",
            "           1       0.00      0.00      0.00        61\n",
            "\n",
            "    accuracy                           0.97      2000\n",
            "   macro avg       0.48      0.50      0.49      2000\n",
            "weighted avg       0.94      0.97      0.95      2000\n",
            "\n"
          ]
        }
      ]
    },
    {
      "cell_type": "markdown",
      "metadata": {
        "id": "KAVoEXa2MESh"
      },
      "source": [
        "**Conclusión**"
      ]
    },
    {
      "cell_type": "markdown",
      "metadata": {
        "id": "lR1YvT5RN5Jz"
      },
      "source": [
        "Todos los modelos arrojaron buenos resultados en el test por lo que se puede descartar que se hayan sobre entrenado los modelos, en el caso del Random Forest y la red LSTM no se normalizaron los datos debido a que si se normalizaban arrojaban malos resultados, esto es debido a que como el data set es muy pequeño por lo que la dispersión de los datos no es mucha como para que los modelos se sobre entrenen y causen malas clasificaciones en el set de pruebas. Por parte de la red LSTM, se probaron varias épocas y tamaños del batch para el entrenamiento debido a que el error se hacia muy pequeño conforme aumentaban las épocas y el tamaño del batch por lo que llegaba un momento en el que el error se estancaba lo cual significaba que la red ya no podía aprender más, es por esto que con 30 épocas fueron suficientes para entrenar el modelo con un tamaño del batch de 10.  "
      ]
    }
  ]
}